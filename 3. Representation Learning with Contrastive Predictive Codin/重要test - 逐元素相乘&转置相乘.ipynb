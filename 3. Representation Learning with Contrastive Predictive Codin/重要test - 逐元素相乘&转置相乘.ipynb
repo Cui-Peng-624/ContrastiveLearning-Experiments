{
 "cells": [
  {
   "cell_type": "code",
   "execution_count": 5,
   "id": "3fdfdfa3-ade5-43da-abe4-5acf9e7678c1",
   "metadata": {},
   "outputs": [
    {
     "name": "stdout",
     "output_type": "stream",
     "text": [
      "tensor([ 13.0580, -21.7378,  -3.8558,  12.3748,  27.1674,  -6.8688,  12.8657,\n",
      "          3.7386,  30.3245,  12.7914,  -7.7435, -36.2970, -11.7246,   4.5172,\n",
      "         22.3979,   7.3321]) \n",
      " tensor([ 13.0580, -21.7378,  -3.8558,  12.3748,  27.1674,  -6.8688,  12.8657,\n",
      "          3.7386,  30.3245,  12.7914,  -7.7435, -36.2970, -11.7246,   4.5172,\n",
      "         22.3978,   7.3321])\n"
     ]
    }
   ],
   "source": [
    "import torch\n",
    "\n",
    "batch_size = 16\n",
    "embedding_size = 512\n",
    "\n",
    "query = torch.randn(batch_size, embedding_size)\n",
    "positive_key = torch.randn(batch_size, embedding_size)\n",
    "\n",
    "test_a = torch.sum(query * positive_key, dim=1)\n",
    "test_b = torch.diag(torch.matmul(query, positive_key.t()))\n",
    "print(test_a, \"\\n\", test_b)"
   ]
  },
  {
   "cell_type": "markdown",
   "id": "fe691376-b6e5-4f38-a8f7-e08f4bf085f1",
   "metadata": {},
   "source": [
    "### 所以点乘sum就是相当于query的第i个feature和positive_key的第i个feature之间的相似度"
   ]
  },
  {
   "cell_type": "code",
   "execution_count": null,
   "id": "e60fdbc4-a389-43c6-abc8-af0da3dca62b",
   "metadata": {},
   "outputs": [],
   "source": []
  },
  {
   "cell_type": "code",
   "execution_count": null,
   "id": "c58db9b5-ed1c-4458-b93e-10fbe93b50f9",
   "metadata": {},
   "outputs": [],
   "source": []
  }
 ],
 "metadata": {
  "kernelspec": {
   "display_name": "Python 3 (ipykernel)",
   "language": "python",
   "name": "python3"
  },
  "language_info": {
   "codemirror_mode": {
    "name": "ipython",
    "version": 3
   },
   "file_extension": ".py",
   "mimetype": "text/x-python",
   "name": "python",
   "nbconvert_exporter": "python",
   "pygments_lexer": "ipython3",
   "version": "3.9.19"
  }
 },
 "nbformat": 4,
 "nbformat_minor": 5
}
